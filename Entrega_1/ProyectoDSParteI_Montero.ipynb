{
  "nbformat": 4,
  "nbformat_minor": 0,
  "metadata": {
    "colab": {
      "provenance": [],
      "authorship_tag": "ABX9TyPNKysIZtPT9nC9nylKz92c",
      "include_colab_link": true
    },
    "kernelspec": {
      "name": "python3",
      "display_name": "Python 3"
    },
    "language_info": {
      "name": "python"
    }
  },
  "cells": [
    {
      "cell_type": "markdown",
      "metadata": {
        "id": "view-in-github",
        "colab_type": "text"
      },
      "source": [
        "<a href=\"https://colab.research.google.com/github/soledadmon/Data-Science-I/blob/main/Entrega_1/ProyectoDSParteI_Montero.ipynb\" target=\"_parent\"><img src=\"https://colab.research.google.com/assets/colab-badge.svg\" alt=\"Open In Colab\"/></a>"
      ]
    },
    {
      "cell_type": "markdown",
      "source": [
        "# Primer entrega\n",
        "----\n",
        "Consigna\n",
        "  \n",
        "- Entregar un archivo con formato .ipynb.\n",
        "  Debe tener el nombre “ProyectoDSParteIMontero.ipynb”\n",
        "\n",
        "- Crear un notebook que deberá tener en primera instancia un abstract (250/500 palabras) de acuerdo al dataset elegido\n",
        "\n",
        "- Crear el dataset del desafío “Visualizaciones en Python”.\n",
        "\n",
        "- Establecer las preguntas e hipótesis de interés sobre el dataset elegido.\n",
        "\n",
        "- Generar visualizaciones (univariadas, bivariadas o multivariadas) junto con resúmenes numéricos acompañado de la interpretaciones respectivas que permitan responder la pregunta problema.Se deben usar al menos tres variables y hacer un diagnóstico de lo que los mismos nos están diciendo.\n",
        "\n",
        "- Vincular los gráficos y análisis numéricos hechos hasta el momento con las preguntas de interés.\n",
        "\n",
        "- Identificar valores perdidos.\n",
        "\n",
        "- Link video explicativo\n",
        "\n"
      ],
      "metadata": {
        "id": "QCOMcZX7AKGq"
      }
    },
    {
      "cell_type": "code",
      "source": [
        "nombre = input(\"me podrias decir tu nombre\")\n",
        "saludo = \"TU NOMBRE ES: \" + nombre\n",
        "print(saludo)"
      ],
      "metadata": {
        "colab": {
          "base_uri": "https://localhost:8080/"
        },
        "id": "24eHYFFdEVrH",
        "outputId": "1b2a456b-a111-4908-fa0b-5f124603cae1"
      },
      "execution_count": 3,
      "outputs": [
        {
          "output_type": "stream",
          "name": "stdout",
          "text": [
            "me podrias decir tu nombrePepe\n",
            "TU NOMBRE ES: Pepe\n"
          ]
        }
      ]
    }
  ]
}